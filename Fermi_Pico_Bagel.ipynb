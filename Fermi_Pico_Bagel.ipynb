{
  "cells": [
    {
      "attachments": {},
      "cell_type": "markdown",
      "id": "0b55c9a8",
      "metadata": {
        "id": "0b55c9a8"
      },
      "source": [
        "## Fermi Pico Bagel\n",
        "Try playing game and understand the rules : https://communicrossings.com/html/js/pfb.htm\n",
        "\n",
        "## Step 1\n",
        "Store any number in string format(number to be guessed by player) in a variable `original_number`.\n",
        "\n",
        "For Example: original_number = '123'\n"
      ]
    },
    {
      "cell_type": "code",
      "execution_count": 3,
      "id": "57a0a2d0",
      "metadata": {
        "id": "57a0a2d0"
      },
      "outputs": [],
      "source": [
        "## Your code goes here Number = \n",
        "\n",
        "Original_Number = \"123\"\n"
      ]
    },
    {
      "attachments": {},
      "cell_type": "markdown",
      "id": "fd43340c",
      "metadata": {
        "id": "fd43340c"
      },
      "source": [
        "## Step 2\n",
        "Take a number as user input and save it in a variable `guess_number`.(Make sure that the datatype of guess_number is same as of original number i.e- `str`)"
      ]
    },
    {
      "cell_type": "code",
      "execution_count": 11,
      "id": "2e0075a7",
      "metadata": {
        "id": "2e0075a7"
      },
      "outputs": [
        {
          "name": "stdout",
          "output_type": "stream",
          "text": [
            "123\n"
          ]
        }
      ],
      "source": [
        "## Your code goes here \n",
        "\n",
        "Guess_Number = input(\"enter your Guess_number: \") \n",
        "print(Guess_Number)\n"
      ]
    },
    {
      "cell_type": "code",
      "execution_count": 5,
      "id": "0b0e8e88",
      "metadata": {},
      "outputs": [
        {
          "data": {
            "text/plain": [
              "str"
            ]
          },
          "execution_count": 5,
          "metadata": {},
          "output_type": "execute_result"
        }
      ],
      "source": [
        "type(Guess_Number)\n",
        "type(Original_Number)"
      ]
    },
    {
      "attachments": {},
      "cell_type": "markdown",
      "id": "22318243",
      "metadata": {
        "id": "22318243"
      },
      "source": [
        "## Step 3\n",
        "Check if total number of digits in `original_number` and `guess_number` is not same(Use `len()` function) then ask user for valid input.(First use `len()` to get total digits in `original_number` and `guess_number`.)"
      ]
    },
    {
      "cell_type": "code",
      "execution_count": 6,
      "id": "258e2971",
      "metadata": {
        "id": "258e2971"
      },
      "outputs": [
        {
          "data": {
            "text/plain": [
              "3"
            ]
          },
          "execution_count": 6,
          "metadata": {},
          "output_type": "execute_result"
        }
      ],
      "source": [
        "## Your code goes here \n",
        "\n",
        "len(Original_Number)"
      ]
    },
    {
      "cell_type": "code",
      "execution_count": 7,
      "id": "1c619aca",
      "metadata": {},
      "outputs": [
        {
          "data": {
            "text/plain": [
              "3"
            ]
          },
          "execution_count": 7,
          "metadata": {},
          "output_type": "execute_result"
        }
      ],
      "source": [
        "len(Guess_Number)"
      ]
    },
    {
      "cell_type": "code",
      "execution_count": 12,
      "id": "6452793e",
      "metadata": {},
      "outputs": [
        {
          "name": "stdout",
          "output_type": "stream",
          "text": [
            "number matched\n"
          ]
        }
      ],
      "source": [
        "if Guess_Number != Original_Number:\n",
        "    print('Enter the valid number')\n",
        "else:\n",
        "    print('number matched')"
      ]
    },
    {
      "attachments": {},
      "cell_type": "markdown",
      "id": "0c064bda",
      "metadata": {
        "id": "0c064bda"
      },
      "source": [
        "## Step 4\n",
        "Using `set()`, check if the digits are repeated in a `guess_number` .\n",
        "Note that datatype `set` allows unique values only.\n",
        "\n",
        "For ex. if `user_input`is 122, then it should print the string 'Duplicate number'  as digit 2 is repeated."
      ]
    },
    {
      "cell_type": "code",
      "execution_count": 9,
      "id": "7b5ef10d",
      "metadata": {
        "id": "7b5ef10d"
      },
      "outputs": [],
      "source": [
        "## Your code goes here \n",
        "\n",
        "if len(Guess_Number) != len(set(Guess_Number)):\n",
        "    print('numbers are repeated')\n",
        "\n",
        "        "
      ]
    },
    {
      "attachments": {},
      "cell_type": "markdown",
      "id": "0514b8d9",
      "metadata": {
        "id": "0514b8d9"
      },
      "source": [
        "## Step 5\n",
        "Check winning condition i.e. if both `guess_number` and `original_number` are same, then print 'Fermi' as many number of times as number of digits in a number and print ' You win !! '.\n"
      ]
    },
    {
      "cell_type": "code",
      "execution_count": 14,
      "id": "ab9379a5",
      "metadata": {
        "id": "ab9379a5"
      },
      "outputs": [
        {
          "name": "stdout",
          "output_type": "stream",
          "text": [
            "fermifermifermi\n",
            "\n",
            " you won !!\n"
          ]
        }
      ],
      "source": [
        "## Your code goes here \n",
        "\n",
        "if (Guess_Number) == (Original_Number):\n",
        "    print('fermi'*(len(Original_Number)))\n",
        "    print('\\n you won !!')"
      ]
    },
    {
      "attachments": {},
      "cell_type": "markdown",
      "id": "96eca378",
      "metadata": {
        "id": "96eca378"
      },
      "source": [
        "## Step 6\n",
        "Create empty list called `output` where we will store the output in the form of list.\n",
        "\n",
        "For example: output = [ ' Fermi ', ' Pico ' ,' Pico ' ] ."
      ]
    },
    {
      "cell_type": "code",
      "execution_count": 16,
      "id": "c047a839",
      "metadata": {
        "id": "c047a839"
      },
      "outputs": [],
      "source": [
        "## Your code goes here \n",
        "\n",
        "Output = [  ]"
      ]
    },
    {
      "attachments": {},
      "cell_type": "markdown",
      "id": "4949309d",
      "metadata": {
        "id": "4949309d"
      },
      "source": [
        "## Step 7\n",
        "Check if any digit and it's position in both `guess_number` and `original_number` are same then append 'Fermi' to `output` list or if only digit matches and not the position then append 'Pico' to `output`.\n"
      ]
    },
    {
      "cell_type": "code",
      "execution_count": 17,
      "id": "7dbe3800",
      "metadata": {
        "id": "7dbe3800"
      },
      "outputs": [],
      "source": [
        "## Your code goes here \n",
        "\n",
        "for i in range(len(Original_Number)):\n",
        "    for j in range(len(Guess_Number)):\n",
        "        if Original_Number [i] == Guess_Number[j]:\n",
        "            if i == j:\n",
        "                Output.append('Fermi')\n",
        "            else:\n",
        "                Output.append('Pico')"
      ]
    },
    {
      "attachments": {},
      "cell_type": "markdown",
      "id": "59e62457",
      "metadata": {
        "id": "59e62457"
      },
      "source": [
        "## Step 8\n",
        "Define a variable called `output_string` which has all values from a list `output` with each value separated by space. (Use 'for' loop to get all the values from a list `output`.)"
      ]
    },
    {
      "cell_type": "code",
      "execution_count": 19,
      "id": "d15c8f60",
      "metadata": {
        "id": "d15c8f60"
      },
      "outputs": [
        {
          "name": "stdout",
          "output_type": "stream",
          "text": [
            "Output_string\n"
          ]
        }
      ],
      "source": [
        "## Your code goes here \n",
        "\n",
        "Output_string = ' '\n",
        "for item in Output:\n",
        "    Output_string = Output_string + '  ' + item\n",
        "\n",
        "print('Output_string')"
      ]
    },
    {
      "attachments": {},
      "cell_type": "markdown",
      "id": "f3f50bef",
      "metadata": {
        "id": "f3f50bef"
      },
      "source": [
        "## Step 9\n",
        "Check if neither any digit nor any position matches i.e. if length of `output` list is zero then print `Bagel`.\n",
        "\n",
        "Otherwise print `output_string`."
      ]
    },
    {
      "cell_type": "code",
      "execution_count": 20,
      "id": "3c568356",
      "metadata": {
        "id": "3c568356"
      },
      "outputs": [
        {
          "name": "stdout",
          "output_type": "stream",
          "text": [
            "Output_string\n"
          ]
        }
      ],
      "source": [
        "## Your code goes here \n",
        "\n",
        "if len(Output) == 0:\n",
        "    print('Bagels')\n",
        "else:\n",
        "    print('Output_string')"
      ]
    },
    {
      "attachments": {},
      "cell_type": "markdown",
      "id": "9d4a684d",
      "metadata": {
        "id": "9d4a684d"
      },
      "source": [
        "## Step 10\n",
        "\n",
        "## Complete game\n",
        "Here use continue and break statements at appropriate places."
      ]
    },
    {
      "cell_type": "code",
      "execution_count": null,
      "id": "79843cdf",
      "metadata": {
        "id": "79843cdf"
      },
      "outputs": [],
      "source": [
        "## step 1\n",
        "\n",
        "## create infinite while loop\n",
        "\n",
        "## step 2 and step 6\n",
        "\n",
        "## step 3 and step 4 (use continue statement)\n",
        "\n",
        "## step 5 (use break statement for winning condition)\n",
        "\n",
        "## step 7\n",
        "\n",
        "## step 8\n",
        "\n",
        "## step 9"
      ]
    },
    {
      "cell_type": "code",
      "execution_count": 25,
      "id": "97e3ca87",
      "metadata": {},
      "outputs": [
        {
          "name": "stdout",
          "output_type": "stream",
          "text": [
            " Fermi\n",
            " Fermi Fermi\n",
            " Fermi Fermi\n",
            " Fermi Fermi\n",
            " Fermi Pico\n",
            " Fermi\n",
            " Bagels\n",
            " Fermi  Fermi  Fermi \n",
            "\n",
            "You won !!\n"
          ]
        }
      ],
      "source": [
        "Original_Number = '123'\n",
        "\n",
        "while True:\n",
        "    Output = []\n",
        "    Guess_Number = input ('\\nGuess the number:')\n",
        "    \n",
        "    if len((Guess_Number)) != len(Original_Number):\n",
        "        print(f'Enter {len(Original_Number)} digit number')\n",
        "        continue\n",
        "        \n",
        "    if len(Guess_Number)  != len(set(Guess_Number)):\n",
        "        print('Duplicate number')\n",
        "        continue\n",
        "    \n",
        "    if (int(Guess_Number) - int(Original_Number)) == 0 :\n",
        "        print(' Fermi '*len(Original_Number))\n",
        "        print('\\nYou won !!')\n",
        "        break\n",
        "    \n",
        "    for i in range(len(Original_Number)): \n",
        "        for j in range(len(Guess_Number)):     \n",
        "            if Original_Number[i] == Guess_Number[j]: \n",
        "                if i == j:               \n",
        "                    Output.append('Fermi')\n",
        "                else:\n",
        "                    Output.append('Pico')\n",
        "                    \n",
        "                    \n",
        "                    \n",
        "    output_string = ''\n",
        "    for item in Output :\n",
        "        output_string = output_string + ' ' + item \n",
        "        \n",
        "    \n",
        "    if len(Output) == 0:           \n",
        "        print(' Bagels')\n",
        "    else:\n",
        "        print(output_string)\n",
        "        "
      ]
    },
    {
      "cell_type": "code",
      "execution_count": 23,
      "id": "8f71ba63",
      "metadata": {},
      "outputs": [],
      "source": [
        "backpack = ['bottle','pen','pencil','book','textbook','cumpas','pad']"
      ]
    },
    {
      "cell_type": "code",
      "execution_count": 29,
      "id": "2f1af875",
      "metadata": {},
      "outputs": [
        {
          "data": {
            "text/plain": [
              "['bottle', 'pen', 'pencil', 'book', 'textbook', 'cumpas', 'pad']"
            ]
          },
          "execution_count": 29,
          "metadata": {},
          "output_type": "execute_result"
        }
      ],
      "source": [
        "backpack"
      ]
    },
    {
      "cell_type": "code",
      "execution_count": 35,
      "id": "5eaa65b6",
      "metadata": {},
      "outputs": [
        {
          "data": {
            "text/plain": [
              "'book'"
            ]
          },
          "execution_count": 35,
          "metadata": {},
          "output_type": "execute_result"
        }
      ],
      "source": [
        "backpack[3]"
      ]
    },
    {
      "cell_type": "code",
      "execution_count": 32,
      "id": "347278b6",
      "metadata": {},
      "outputs": [
        {
          "data": {
            "text/plain": [
              "True"
            ]
          },
          "execution_count": 32,
          "metadata": {},
          "output_type": "execute_result"
        }
      ],
      "source": [
        "'textbook' in ['bottle','pen','pencil','book','textbook','cumpas','pad']"
      ]
    },
    {
      "cell_type": "code",
      "execution_count": 56,
      "id": "89984f8b",
      "metadata": {},
      "outputs": [
        {
          "name": "stdout",
          "output_type": "stream",
          "text": [
            "3\n",
            "4\n"
          ]
        }
      ],
      "source": [
        "for i in range(3,5) :\n",
        "        print( i )"
      ]
    },
    {
      "cell_type": "code",
      "execution_count": 52,
      "id": "7e95dec2",
      "metadata": {},
      "outputs": [
        {
          "name": "stdout",
          "output_type": "stream",
          "text": [
            "pad\n"
          ]
        }
      ],
      "source": [
        "print(i)"
      ]
    },
    {
      "cell_type": "code",
      "execution_count": 81,
      "id": "f7c09294",
      "metadata": {},
      "outputs": [],
      "source": [
        "sugar = 3\n",
        "teapowder = 1"
      ]
    },
    {
      "cell_type": "code",
      "execution_count": 82,
      "id": "ec14f20b",
      "metadata": {},
      "outputs": [
        {
          "data": {
            "text/plain": [
              "int"
            ]
          },
          "execution_count": 82,
          "metadata": {},
          "output_type": "execute_result"
        }
      ],
      "source": [
        "\n",
        "type(sugar)\n",
        "type(teapowder)"
      ]
    },
    {
      "cell_type": "code",
      "execution_count": 88,
      "id": "1be1bb6d",
      "metadata": {},
      "outputs": [
        {
          "name": "stdout",
          "output_type": "stream",
          "text": [
            "good\n"
          ]
        }
      ],
      "source": [
        "if (sugar) == (teapowder):\n",
        "    print('not good')\n",
        "else:\n",
        "    print('good')"
      ]
    },
    {
      "cell_type": "code",
      "execution_count": null,
      "id": "80e7e53d",
      "metadata": {},
      "outputs": [],
      "source": []
    }
  ],
  "metadata": {
    "colab": {
      "provenance": []
    },
    "kernelspec": {
      "display_name": "base",
      "language": "python",
      "name": "python3"
    },
    "language_info": {
      "codemirror_mode": {
        "name": "ipython",
        "version": 3
      },
      "file_extension": ".py",
      "mimetype": "text/x-python",
      "name": "python",
      "nbconvert_exporter": "python",
      "pygments_lexer": "ipython3",
      "version": "3.12.7"
    }
  },
  "nbformat": 4,
  "nbformat_minor": 5
}
